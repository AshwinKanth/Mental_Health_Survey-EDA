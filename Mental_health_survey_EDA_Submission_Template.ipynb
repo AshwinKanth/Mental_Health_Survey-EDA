{
  "cells": [
    {
      "cell_type": "markdown",
      "metadata": {
        "id": "vncDsAP0Gaoa"
      },
      "source": [
        "# **Project Name**    - Mental Health Survey EDA\n",
        "\n",
        "---\n",
        "\n",
        "\n",
        "\n"
      ]
    },
    {
      "cell_type": "markdown",
      "metadata": {
        "id": "beRrZCGUAJYm"
      },
      "source": [
        "##### **Project Type**    - EDA\n",
        "##### **Contribution**    - Individual\n",
        "##### **Team Member 1 -** Ashwin kanth Marapally"
      ]
    },
    {
      "cell_type": "markdown",
      "metadata": {
        "id": "FJNUwmbgGyua"
      },
      "source": [
        "# **Project Summary -**"
      ]
    },
    {
      "cell_type": "markdown",
      "metadata": {
        "id": "F6v_1wHtG2nS"
      },
      "source": [
        "This project involves a comprehensive Exploratory Data Analysis (EDA) of the Mental Health in Tech Survey dataset. The survey, conducted among professionals in the technology sector, aims to understand employees' mental health conditions, treatment behavior, workplace support, and the cultural perceptions of mental wellness in tech environments.\n",
        "\n",
        "**The analysis includes:**\n",
        "\n",
        "* Cleaning and preprocessing (handling missing values, correcting outliers, and data type conversion)\n",
        "\n",
        "* Univariate, Bivariate, and Multivariate visualizations (UBM) to identify patterns\n",
        "\n",
        "* Analysis of mental health treatment behavior across different genders, age groups, employment types, and work environments\n",
        "\n",
        "* Key focus on how work interference, remote work, and company support influence treatment-seeking behavior\n",
        "\n",
        "By identifying high-risk groups and support gaps, this project helps build actionable recommendations for organizations to create a more inclusive and responsive mental health environment.\n"
      ]
    },
    {
      "cell_type": "markdown",
      "metadata": {
        "id": "w6K7xa23Elo4"
      },
      "source": [
        "# **GitHub Link -**"
      ]
    },
    {
      "cell_type": "markdown",
      "metadata": {
        "id": "h1o69JH3Eqqn"
      },
      "source": [
        "Provide your GitHub Link here."
      ]
    },
    {
      "cell_type": "markdown",
      "metadata": {
        "id": "yQaldy8SH6Dl"
      },
      "source": [
        "# **Problem Statement**\n"
      ]
    },
    {
      "cell_type": "markdown",
      "metadata": {
        "id": "DpeJGUA3kjGy"
      },
      "source": [
        "**Write Problem Statement Here.**"
      ]
    },
    {
      "cell_type": "markdown",
      "metadata": {
        "id": "PH-0ReGfmX4f"
      },
      "source": [
        "#### **Define Your Business Objective?**"
      ]
    },
    {
      "cell_type": "markdown",
      "metadata": {
        "id": "PhDvGCAqmjP1"
      },
      "source": [
        "In today’s high-stress and fast-paced tech industry, mental health challenges are increasingly prevalent, yet they remain under-discussed and under-supported in many workplaces. Many employees struggle silently, unaware of or unable to access proper mental health care and support systems.\n",
        "\n",
        "This project aims to answer the following core questions:\n",
        "\n",
        "* What are the demographic and workplace factors that influence mental health conditions in tech?\n",
        "\n",
        "* Are employees seeking treatment when needed — and if not, why?\n",
        "\n",
        "* How do remote work, company size, gender, and awareness of benefits affect mental health support?\n",
        "\n",
        "* What patterns indicate gaps in mental health accessibility or awareness?\n",
        "\n",
        "The ultimate goal is to equip organizations with data-driven insights to help them:\n",
        "\n",
        "* **Identify at-risk groups**\n",
        "\n",
        "* **Address awareness and access gaps**\n",
        "\n",
        "* **Reduce stigma**\n",
        "\n",
        "* **Create a positive business impact through better mental health culture**"
      ]
    },
    {
      "cell_type": "markdown",
      "metadata": {
        "id": "mDgbUHAGgjLW"
      },
      "source": [
        "# **General Guidelines** : -  "
      ]
    },
    {
      "cell_type": "markdown",
      "metadata": {
        "id": "ZrxVaUj-hHfC"
      },
      "source": [
        "1.   Well-structured, formatted, and commented code is required.\n",
        "2.   Exception Handling, Production Grade Code & Deployment Ready Code will be a plus. Those students will be awarded some additional credits.\n",
        "     \n",
        "     The additional credits will have advantages over other students during Star Student selection.\n",
        "       \n",
        "             [ Note: - Deployment Ready Code is defined as, the whole .ipynb notebook should be executable in one go\n",
        "                       without a single error logged. ]\n",
        "\n",
        "3.   Each and every logic should have proper comments.\n",
        "4. You may add as many number of charts you want. Make Sure for each and every chart the following format should be answered.\n",
        "        \n",
        "\n",
        "```\n",
        "# Chart visualization code\n",
        "```\n",
        "            \n",
        "\n",
        "*   Why did you pick the specific chart?\n",
        "*   What is/are the insight(s) found from the chart?\n",
        "* Will the gained insights help creating a positive business impact?\n",
        "Are there any insights that lead to negative growth? Justify with specific reason.\n",
        "\n",
        "5. You have to create at least 20 logical & meaningful charts having important insights.\n",
        "\n",
        "\n",
        "[ Hints : - Do the Vizualization in  a structured way while following \"UBM\" Rule.\n",
        "\n",
        "U - Univariate Analysis,\n",
        "\n",
        "B - Bivariate Analysis (Numerical - Categorical, Numerical - Numerical, Categorical - Categorical)\n",
        "\n",
        "M - Multivariate Analysis\n",
        " ]\n",
        "\n",
        "\n",
        "\n"
      ]
    },
    {
      "cell_type": "markdown",
      "metadata": {
        "id": "O_i_v8NEhb9l"
      },
      "source": [
        "# ***Let's Begin !***"
      ]
    },
    {
      "cell_type": "markdown",
      "metadata": {
        "id": "HhfV-JJviCcP"
      },
      "source": [
        "## ***1. Know Your Data***"
      ]
    },
    {
      "cell_type": "markdown",
      "metadata": {
        "id": "Y3lxredqlCYt"
      },
      "source": [
        "### Import Libraries"
      ]
    },
    {
      "cell_type": "code",
      "execution_count": null,
      "metadata": {
        "id": "M8Vqi-pPk-HR"
      },
      "outputs": [],
      "source": [
        "# Import Libraries\n",
        "\n",
        "import pandas as pd;\n",
        "import numpy as np;\n",
        "import matplotlib.pyplot as plt\n",
        "import seaborn as sns"
      ]
    },
    {
      "cell_type": "markdown",
      "metadata": {
        "id": "3RnN4peoiCZX"
      },
      "source": [
        "### Dataset Loading"
      ]
    },
    {
      "cell_type": "code",
      "execution_count": null,
      "metadata": {
        "id": "4CkvbW_SlZ_R"
      },
      "outputs": [],
      "source": [
        "# Load Dataset\n",
        "\n",
        "mental_health_data = pd.read_csv(\"/content/survey.csv\")"
      ]
    },
    {
      "cell_type": "markdown",
      "metadata": {
        "id": "x71ZqKXriCWQ"
      },
      "source": [
        "### Dataset First View"
      ]
    },
    {
      "cell_type": "code",
      "execution_count": null,
      "metadata": {
        "id": "LWNFOSvLl09H"
      },
      "outputs": [],
      "source": [
        "# Dataset First Look\n",
        "\n",
        "mental_health_data.head()"
      ]
    },
    {
      "cell_type": "markdown",
      "metadata": {
        "id": "7hBIi_osiCS2"
      },
      "source": [
        "### Dataset Rows & Columns count"
      ]
    },
    {
      "cell_type": "code",
      "execution_count": null,
      "metadata": {
        "id": "Kllu7SJgmLij"
      },
      "outputs": [],
      "source": [
        "# Dataset Rows & Columns count\n",
        "\n",
        "print(\"Rows: \", mental_health_data.shape[0])\n",
        "print(\"Columns: \", mental_health_data.shape[1])"
      ]
    },
    {
      "cell_type": "markdown",
      "metadata": {
        "id": "JlHwYmJAmNHm"
      },
      "source": [
        "### Dataset Information"
      ]
    },
    {
      "cell_type": "code",
      "execution_count": null,
      "metadata": {
        "id": "e9hRXRi6meOf"
      },
      "outputs": [],
      "source": [
        "# Dataset Info\n",
        "\n",
        "mental_health_data.info()"
      ]
    },
    {
      "cell_type": "markdown",
      "metadata": {
        "id": "35m5QtbWiB9F"
      },
      "source": [
        "#### Duplicate Values"
      ]
    },
    {
      "cell_type": "code",
      "execution_count": null,
      "metadata": {
        "id": "1sLdpKYkmox0"
      },
      "outputs": [],
      "source": [
        "# Dataset Duplicate Value Count\n",
        "\n",
        "mental_health_data.duplicated().sum()"
      ]
    },
    {
      "cell_type": "markdown",
      "metadata": {
        "id": "PoPl-ycgm1ru"
      },
      "source": [
        "#### Missing Values/Null Values"
      ]
    },
    {
      "cell_type": "code",
      "execution_count": null,
      "metadata": {
        "id": "GgHWkxvamxVg"
      },
      "outputs": [],
      "source": [
        "# Missing Values/Null Values Count\n",
        "\n",
        "mental_health_missing_data = pd.DataFrame({\n",
        "    \"Missing Values\" : mental_health_data.isnull().sum(),\n",
        "    \"Missing_values_percentage %\" : mental_health_data.isnull().mean()* 100\n",
        "}).sort_values(\"Missing_values_percentage %\", ascending = False)\n",
        "\n",
        "mental_health_missing_data"
      ]
    },
    {
      "cell_type": "code",
      "execution_count": null,
      "metadata": {
        "id": "3q5wnI3om9sJ"
      },
      "outputs": [],
      "source": [
        "# Visualizing the missing values\n",
        "\n",
        "plt.figure(figsize=(10, 6))\n",
        "sns.heatmap(mental_health_data.isnull(), cbar=False, cmap='viridis')\n",
        "plt.title('Missing Values Heatmap')\n",
        "plt.show()"
      ]
    },
    {
      "cell_type": "markdown",
      "metadata": {
        "id": "H0kj-8xxnORC"
      },
      "source": [
        "### What did you know about your dataset?"
      ]
    },
    {
      "cell_type": "markdown",
      "metadata": {
        "id": "gfoNAAC-nUe_"
      },
      "source": [
        "**Dataset Overview:**\n",
        "\n",
        "* The dataset contains 1,259 rows and multiple columns 27\n",
        "\n",
        "* Demographics (e.g., Age, Gender, Country, state)\n",
        "\n",
        "* Work-related details (remote_work, no_employees, self_employed)\n",
        "\n",
        "* Mental health experiences (treatment, work_interfere, seek_help, family_history, etc.)\n",
        "\n",
        "**Data Cleaning Observations:**\n",
        "\n",
        "* The Age column contained extreme outliers (e.g., values like -1726 and 9999999999), which were removed using the IQR method.\n",
        "\n",
        "* The Gender column had over 45+ unique variations due to free-text input (e.g., \"male\", \"M\", \"cis male\", etc.), which were standardized into 'Male', 'Female', and 'Other'.\n",
        "\n",
        "**Several columns had missing values, including:**\n",
        "\n",
        "* self_employed (~1.4% missing)\n",
        "\n",
        "* work_interfere (~21% missing)\n",
        "\n",
        "* state (~41% missing)\n",
        "\n",
        "These were handled via mode imputation or appropriate default values after analysis."
      ]
    },
    {
      "cell_type": "markdown",
      "metadata": {
        "id": "nA9Y7ga8ng1Z"
      },
      "source": [
        "## ***2. Understanding Your Variables***"
      ]
    },
    {
      "cell_type": "code",
      "execution_count": null,
      "metadata": {
        "id": "j7xfkqrt5Ag5"
      },
      "outputs": [],
      "source": [
        "# Dataset Columns\n",
        "\n",
        "mental_health_data.columns.tolist()"
      ]
    },
    {
      "cell_type": "code",
      "execution_count": null,
      "metadata": {
        "id": "DnOaZdaE5Q5t"
      },
      "outputs": [],
      "source": [
        "# Dataset Describe\n",
        "\n",
        "mental_health_data.describe(include='all')"
      ]
    },
    {
      "cell_type": "markdown",
      "metadata": {
        "id": "PBTbrJXOngz2"
      },
      "source": [
        "### Variables Description"
      ]
    },
    {
      "cell_type": "markdown",
      "metadata": {
        "id": "aJV4KIxSnxay"
      },
      "source": [
        "**Age:**\tRespondent's age (numeric). Outliers were present and removed using IQR.\n",
        "\n",
        "**Gender:**\tSelf-reported gender. Normalized into Male, Female, and Other.\n",
        "\n",
        "**Country:**\tCountry where the respondent resides.\n",
        "\n",
        "**state:**\tIf you live in the United States, which state or territory do you live in?.\n",
        "\n",
        "**self_employed:**\tWhether the respondent is self-employed (Yes / No).\n",
        "\n",
        "**family_history:**\tIndicates if the respondent has a family history of mental illness.\n",
        "\n",
        "**treatment:**\tWhether the respondent has sought mental health treatment.\n",
        "\n",
        "**work_interfere:**\tHow often mental health interferes with work (Never, Rarely, Sometimes, Often).\n",
        "\n",
        "**no_employees:**\tSize of the company the respondent works for (e.g., 6-25, More than 1000).\n",
        "\n",
        "**remote_work:**\tWhether the respondent works remotely at least part of the time.\n",
        "\n",
        "**tech_company:**\tWhether the respondent works for a tech company (Yes / No).\n",
        "\n",
        "**benefits:**\tWhether the employer provides mental health benefits\n",
        "\n",
        "**care_options:**\tAwareness of mental health care options provided by the employer.\n",
        "\n",
        "**wellness_program:**\tAvailability of wellness programs at the respondent’s workplace.\n",
        "\n",
        "**seek_help:**\tWhether the respondent knows how to seek help for mental health issues.\n",
        "\n",
        "**anonymity:**\tDoes the employer maintain anonymity for those seeking mental health treatment?\n",
        "\n",
        "**leave:**\tComfort level in requesting a mental health-related leave.\n",
        "\n",
        "**mental_health_consequence:**\tPerceived consequence of discussing mental health at work.\n",
        "\n",
        "**phys_health_consequence:**\tPerceived consequence of discussing physical health at work.\n",
        "\n",
        "**coworkers, supervisor, mental_health_interview, phys_health_interview:**\tAttitudes toward discussing mental health with colleagues or during job interviews.\n",
        "\n",
        "**obs_consequence:**\tBelief whether discussing mental health may affect job prospects."
      ]
    },
    {
      "cell_type": "markdown",
      "metadata": {
        "id": "u3PMJOP6ngxN"
      },
      "source": [
        "### Check Unique Values for each variable."
      ]
    },
    {
      "cell_type": "code",
      "execution_count": null,
      "metadata": {
        "id": "zms12Yq5n-jE"
      },
      "outputs": [],
      "source": [
        "# Check Unique Values for each variable.\n",
        "\n",
        "mental_health_data.nunique()"
      ]
    },
    {
      "cell_type": "markdown",
      "metadata": {
        "id": "dauF4eBmngu3"
      },
      "source": [
        "## 3. ***Data Wrangling***"
      ]
    },
    {
      "cell_type": "markdown",
      "metadata": {
        "id": "bKJF3rekwFvQ"
      },
      "source": [
        "### Data Wrangling Code"
      ]
    },
    {
      "cell_type": "code",
      "execution_count": null,
      "metadata": {
        "id": "wk-9a2fpoLcV"
      },
      "outputs": [],
      "source": [
        "# Create copy of the dataset\n",
        "\n",
        "mental_health_data_copy = mental_health_data.copy()"
      ]
    },
    {
      "cell_type": "code",
      "source": [
        "# Handling Missing Values\n",
        "\n",
        "mental_health_data_copy.drop(columns=['comments'], inplace=True)\n",
        "\n",
        "mental_health_data_copy.fillna({'state': 'Not specified'}, inplace=True)\n",
        "mental_health_data_copy.fillna({\"work_interfere\": mental_health_data_copy[\"work_interfere\"].mode()[0]}, inplace=True)\n",
        "mental_health_data_copy.fillna({'self_employed': 'No'}, inplace=True)"
      ],
      "metadata": {
        "id": "fs6r63dcfg63"
      },
      "execution_count": null,
      "outputs": []
    },
    {
      "cell_type": "code",
      "source": [
        "# cross checking null values\n",
        "\n",
        "mental_health_data_copy.isnull().sum()"
      ],
      "metadata": {
        "id": "KLEadfNGit7m"
      },
      "execution_count": null,
      "outputs": []
    },
    {
      "cell_type": "code",
      "source": [
        "# Converting data types\n",
        "\n",
        "mental_health_data_copy['Timestamp'] = pd.to_datetime(mental_health_data_copy['Timestamp'])\n",
        "\n",
        "categorical_columns = [\"Gender\",\"Country\",\"self_employed\",\"treatment\"]\n",
        "\n",
        "mental_health_data_copy[categorical_columns] = mental_health_data_copy[categorical_columns].astype('category')"
      ],
      "metadata": {
        "id": "iwBlRhyTliV2"
      },
      "execution_count": null,
      "outputs": []
    },
    {
      "cell_type": "code",
      "source": [
        "# Cleaning the Gender Column (As there are 46 unique genders in dataset)\n",
        "\n",
        "def clean_gender(gender):\n",
        "    gender = str(gender).strip().lower()\n",
        "\n",
        "    if gender in ['male', 'm', 'male ', 'cis male', 'cis man', 'man', 'malr']:\n",
        "        return 'Male'\n",
        "    elif gender in ['female', 'f', 'femail', 'cis female', 'cis woman', 'woman']:\n",
        "        return 'Female'\n",
        "    else:\n",
        "        return 'Other'\n",
        "\n",
        "mental_health_data_copy['Gender'] = mental_health_data_copy['Gender'].apply(clean_gender)\n",
        "\n"
      ],
      "metadata": {
        "id": "W3ljXisZAHeO"
      },
      "execution_count": null,
      "outputs": []
    },
    {
      "cell_type": "code",
      "source": [
        "# Check outliers in Age using IQR Method\n",
        "\n",
        "Q1 = mental_health_data_copy[\"Age\"].quantile(0.25)\n",
        "Q3 = mental_health_data_copy[\"Age\"].quantile(0.75)\n",
        "\n",
        "IQR = Q3 - Q1\n",
        "\n",
        "lower_bound = Q1 - 1.5 * IQR\n",
        "upper_bound = Q3 + 1.5 * IQR\n",
        "\n",
        "outliers = mental_health_data_copy[(mental_health_data_copy[\"Age\"] < lower_bound) | (mental_health_data_copy[\"Age\"] > upper_bound)]\n",
        "\n",
        "print(f\"Number of Age outliers: {len(outliers)}\")\n",
        "print(f\"Lower Bound: {lower_bound}\")\n",
        "print(f\"Upper Bound: {upper_bound}\")"
      ],
      "metadata": {
        "id": "j4Iwg0GpiJY_"
      },
      "execution_count": null,
      "outputs": []
    },
    {
      "cell_type": "code",
      "source": [
        "# Removing outliers\n",
        "\n",
        "df_cleaned = mental_health_data_copy[(mental_health_data_copy['Age'] >= lower_bound) & (mental_health_data_copy['Age'] <= upper_bound)]\n"
      ],
      "metadata": {
        "id": "1uKRUF83vvMv"
      },
      "execution_count": null,
      "outputs": []
    },
    {
      "cell_type": "code",
      "source": [
        "# save cleaned dataset\n",
        "\n",
        "df_cleaned.to_csv(\"cleaned_mental_health_data.csv\", index=False)"
      ],
      "metadata": {
        "id": "xoJVIUvsrOv2"
      },
      "execution_count": null,
      "outputs": []
    },
    {
      "cell_type": "markdown",
      "metadata": {
        "id": "MSa1f5Uengrz"
      },
      "source": [
        "### What all manipulations have you done and insights you found?"
      ]
    },
    {
      "cell_type": "markdown",
      "metadata": {
        "id": "LbyXE7I1olp8"
      },
      "source": [
        "**1. Outlier Handling**\n",
        "\n",
        "* Detected extreme outliers in the Age column (e.g., -1726, 100000000000).\n",
        "\n",
        "* Used IQR method to compute lower and upper bounds.\n",
        "\n",
        "* Removed 40 rows outside the age range 13.5 – 49.5 for clean analysis.\n",
        "\n",
        "**2. Missing Values Handling**\n",
        "\n",
        "* Dropped the comments column (86% missing).\n",
        "\n",
        "**Filled missing:**\n",
        "\n",
        "* self_employed → with \"No\"\n",
        "\n",
        "* work_interfere → with mode (\"Sometimes\")\n",
        "\n",
        "* state → with \"Not specified\"\n",
        "\n",
        "**3. Data Type Fixes**\n",
        "\n",
        "* Converted Timestamp to datetime\n",
        "\n",
        "* Converted relevant columns (e.g., Gender, Country, remote_work, etc.) to category type for efficient analysis\n",
        "\n",
        "\n",
        "**4. Gender Normalization**\n",
        "\n",
        "* Cleaned messy Gender values (e.g., \"male\", \"MALE \", \"femail\", \"cis man\", etc.)\n",
        "\n",
        "* Consolidated into 3 categories: Male, Female, and Other"
      ]
    },
    {
      "cell_type": "markdown",
      "metadata": {
        "id": "GF8Ens_Soomf"
      },
      "source": [
        "## ***4. Data Vizualization, Storytelling & Experimenting with charts : Understand the relationships between variables***"
      ]
    },
    {
      "cell_type": "markdown",
      "source": [
        "# **Univariate Visualizations**"
      ],
      "metadata": {
        "id": "T38Y3FjUJR8g"
      }
    },
    {
      "cell_type": "markdown",
      "metadata": {
        "id": "0wOQAZs5pc--"
      },
      "source": [
        "#### Chart - 1"
      ]
    },
    {
      "cell_type": "code",
      "execution_count": null,
      "metadata": {
        "id": "7v_ESjsspbW7"
      },
      "outputs": [],
      "source": [
        "# Chart - 1 Age Distribution\n",
        "\n",
        "plt.figure(figsize=(12, 6))\n",
        "sns.histplot(df_cleaned['Age'], bins=20, kde=True)\n",
        "plt.title(\"Age Distribution After Removing Outliers (IQR-based)\")\n",
        "plt.xlabel(\"Age\")\n",
        "plt.ylabel(\"Frequency\")\n",
        "plt.show()\n",
        "\n"
      ]
    },
    {
      "cell_type": "markdown",
      "metadata": {
        "id": "K5QZ13OEpz2H"
      },
      "source": [
        "##### 1. Why did you pick the specific chart?"
      ]
    },
    {
      "cell_type": "markdown",
      "metadata": {
        "id": "XESiWehPqBRc"
      },
      "source": [
        "I selected a histogram because it is the most effective way to explore how a continuous variable like Age is distributed"
      ]
    },
    {
      "cell_type": "markdown",
      "metadata": {
        "id": "lQ7QKXXCp7Bj"
      },
      "source": [
        "##### 2. What is/are the insight(s) found from the chart?"
      ]
    },
    {
      "cell_type": "markdown",
      "metadata": {
        "id": "C_j1G7yiqdRP"
      },
      "source": [
        "**Insight :** The chart shows that the age of respondents clusters mainly between 25 to 35 years, indicating that the majority of tech employees who responded are relatively young. There is a gradual decline after age 35, and almost no representation above age 49 due to outlier removal. This suggests that younger professionals are either more impacted by or more aware of mental health topics in the tech industry."
      ]
    },
    {
      "cell_type": "markdown",
      "metadata": {
        "id": "448CDAPjqfQr"
      },
      "source": [
        "##### 3. Will the gained insights help creating a positive business impact?\n",
        "Are there any insights that lead to negative growth? Justify with specific reason."
      ]
    },
    {
      "cell_type": "markdown",
      "metadata": {
        "id": "3cspy4FjqxJW"
      },
      "source": [
        "**Impact:**  Understanding the age concentration of employees engaging with mental health surveys allows companies to tailor wellness programs and mental health support. If the majority of affected or engaged users are in their 20s and 30s, organizations can design more age-relevant mental health resources, workshops, and communication strategies"
      ]
    },
    {
      "cell_type": "markdown",
      "metadata": {
        "id": "KSlN3yHqYklG"
      },
      "source": [
        "#### Chart - 2"
      ]
    },
    {
      "cell_type": "code",
      "execution_count": null,
      "metadata": {
        "id": "R4YgtaqtYklH"
      },
      "outputs": [],
      "source": [
        "# Chart - 2 Gender Count\n",
        "\n",
        "plt.figure(figsize=(8, 6))\n",
        "sns.countplot(data=df_cleaned, x='Gender')\n",
        "plt.title(\"Gender Distribution\")\n",
        "plt.show()\n"
      ]
    },
    {
      "cell_type": "markdown",
      "metadata": {
        "id": "t6dVpIINYklI"
      },
      "source": [
        "##### 1. Why did you pick the specific chart?"
      ]
    },
    {
      "cell_type": "markdown",
      "metadata": {
        "id": "5aaW0BYyYklI"
      },
      "source": [
        "To observe gender diversity in the dataset and check representation across male, female, and other categories."
      ]
    },
    {
      "cell_type": "markdown",
      "metadata": {
        "id": "ijmpgYnKYklI"
      },
      "source": [
        "##### 2. What is/are the insight(s) found from the chart?"
      ]
    },
    {
      "cell_type": "markdown",
      "metadata": {
        "id": "PSx9atu2YklI"
      },
      "source": [
        "**Insight:** he dataset is heavily male-dominated, with relatively fewer female and other-gender respondents. This reflects either the tech industry imbalance or a greater willingness among men to participate in this specific survey."
      ]
    },
    {
      "cell_type": "markdown",
      "metadata": {
        "id": "-JiQyfWJYklI"
      },
      "source": [
        "##### 3. Will the gained insights help creating a positive business impact?\n",
        "Are there any insights that lead to negative growth? Justify with specific reason."
      ]
    },
    {
      "cell_type": "markdown",
      "metadata": {
        "id": "BcBbebzrYklV"
      },
      "source": [
        "**Impact:** Gender inclusion policies should ensure that mental health support is inclusive and customized for all gender identities."
      ]
    },
    {
      "cell_type": "markdown",
      "metadata": {
        "id": "EM7whBJCYoAo"
      },
      "source": [
        "#### Chart - 3"
      ]
    },
    {
      "cell_type": "code",
      "execution_count": null,
      "metadata": {
        "id": "t6GMdE67YoAp"
      },
      "outputs": [],
      "source": [
        "# Chart - 3 Treatment Sought\n",
        "\n",
        "plt.figure(figsize=(8, 6))\n",
        "sns.countplot(data=df_cleaned, x='treatment')\n",
        "plt.title(\"Treatment Sought Distribution\")\n",
        "plt.show()"
      ]
    },
    {
      "cell_type": "markdown",
      "metadata": {
        "id": "fge-S5ZAYoAp"
      },
      "source": [
        "##### 1. Why did you pick the specific chart?"
      ]
    },
    {
      "cell_type": "markdown",
      "metadata": {
        "id": "5dBItgRVYoAp"
      },
      "source": [
        "To evaluate how many people have sought treatment for mental health, which indicates openness and access to care."
      ]
    },
    {
      "cell_type": "markdown",
      "metadata": {
        "id": "85gYPyotYoAp"
      },
      "source": [
        "##### 2. What is/are the insight(s) found from the chart?"
      ]
    },
    {
      "cell_type": "markdown",
      "metadata": {
        "id": "4jstXR6OYoAp"
      },
      "source": [
        "**Insight:** A significant number of respondents have sought mental health treatment. This may indicate rising awareness and acceptance, or it may reflect underlying stress and burnout in the tech industry."
      ]
    },
    {
      "cell_type": "markdown",
      "metadata": {
        "id": "RoGjAbkUYoAp"
      },
      "source": [
        "##### 3. Will the gained insights help creating a positive business impact?\n",
        "Are there any insights that lead to negative growth? Justify with specific reason."
      ]
    },
    {
      "cell_type": "markdown",
      "metadata": {
        "id": "zfJ8IqMcYoAp"
      },
      "source": [
        "**Impact:** Organizations should continue reducing stigma, offering accessible therapy, and building a culture of mental health awareness."
      ]
    },
    {
      "cell_type": "markdown",
      "metadata": {
        "id": "4Of9eVA-YrdM"
      },
      "source": [
        "#### Chart - 4"
      ]
    },
    {
      "cell_type": "code",
      "execution_count": null,
      "metadata": {
        "id": "irlUoxc8YrdO"
      },
      "outputs": [],
      "source": [
        "# Chart - 4 Self-employed Status\n",
        "\n",
        "self_emp_counts = df_cleaned[\"self_employed\"].value_counts()\n",
        "\n",
        "labels = self_emp_counts.index\n",
        "sizes = self_emp_counts.values\n",
        "\n",
        "plt.figure(figsize=(8, 6))\n",
        "plt.pie(sizes, labels=labels, autopct='%1.1f%%', startangle=90)\n",
        "plt.title(\"Self-Employed Status\")\n"
      ]
    },
    {
      "cell_type": "markdown",
      "metadata": {
        "id": "iky9q4vBYrdO"
      },
      "source": [
        "##### 1. Why did you pick the specific chart?"
      ]
    },
    {
      "cell_type": "markdown",
      "metadata": {
        "id": "aJRCwT6DYrdO"
      },
      "source": [
        "To check how many respondents are self-employed, as this affects access to structured mental health benefits."
      ]
    },
    {
      "cell_type": "markdown",
      "metadata": {
        "id": "F6T5p64dYrdO"
      },
      "source": [
        "##### 2. What is/are the insight(s) found from the chart?"
      ]
    },
    {
      "cell_type": "markdown",
      "metadata": {
        "id": "Xx8WAJvtYrdO"
      },
      "source": [
        "**Insight:** Most respondents are not self-employed, indicating they may depend more on company-provided benefits and culture for mental wellness."
      ]
    },
    {
      "cell_type": "markdown",
      "metadata": {
        "id": "y-Ehk30pYrdP"
      },
      "source": [
        "##### 3. Will the gained insights help creating a positive business impact?\n",
        "Are there any insights that lead to negative growth? Justify with specific reason."
      ]
    },
    {
      "cell_type": "markdown",
      "metadata": {
        "id": "jLNxxz7MYrdP"
      },
      "source": [
        "**Impact:** Organizations must recognize this dependency and ensure their employee wellness infrastructure is reliable and easy to access."
      ]
    },
    {
      "cell_type": "markdown",
      "metadata": {
        "id": "bamQiAODYuh1"
      },
      "source": [
        "#### Chart - 5"
      ]
    },
    {
      "cell_type": "code",
      "execution_count": null,
      "metadata": {
        "id": "TIJwrbroYuh3"
      },
      "outputs": [],
      "source": [
        "# Chart - 5 Family History of Mental Illness\n",
        "\n",
        "sns.countplot(data=df_cleaned, x=\"family_history\")\n",
        "plt.title(\"Family History of Mental Illness\")\n",
        "plt.show()"
      ]
    },
    {
      "cell_type": "markdown",
      "metadata": {
        "id": "QHF8YVU7Yuh3"
      },
      "source": [
        "##### 1. Why did you pick the specific chart?"
      ]
    },
    {
      "cell_type": "markdown",
      "metadata": {
        "id": "dcxuIMRPYuh3"
      },
      "source": [
        "To know how many respondents have a family history of mental illness, a known risk"
      ]
    },
    {
      "cell_type": "markdown",
      "metadata": {
        "id": "GwzvFGzlYuh3"
      },
      "source": [
        "##### 2. What is/are the insight(s) found from the chart?"
      ]
    },
    {
      "cell_type": "markdown",
      "metadata": {
        "id": "uyqkiB8YYuh3"
      },
      "source": [
        "**Insight:** A large number of individuals reported having a family history, which could contribute to a higher personal risk or awareness of mental health challenges."
      ]
    },
    {
      "cell_type": "markdown",
      "metadata": {
        "id": "qYpmQ266Yuh3"
      },
      "source": [
        "##### 3. Will the gained insights help creating a positive business impact?\n",
        "Are there any insights that lead to negative growth? Justify with specific reason."
      ]
    },
    {
      "cell_type": "markdown",
      "metadata": {
        "id": "_WtzZ_hCYuh4"
      },
      "source": [
        "**Impact:** Support systems could include preventive screenings and educational sessions for employees with higher personal risk factors."
      ]
    },
    {
      "cell_type": "markdown",
      "source": [
        "# **Bivariate Visualizations**"
      ],
      "metadata": {
        "id": "dEf-32NuJYk2"
      }
    },
    {
      "cell_type": "markdown",
      "metadata": {
        "id": "OH-pJp9IphqM"
      },
      "source": [
        "#### Chart - 6"
      ]
    },
    {
      "cell_type": "code",
      "execution_count": null,
      "metadata": {
        "id": "kuRf4wtuphqN"
      },
      "outputs": [],
      "source": [
        "# Chart - 6 Age vs Treatment\n",
        "\n",
        "plt.figure(figsize=(10, 6))\n",
        "sns.boxplot(data=df_cleaned, x='treatment', y='Age')\n",
        "plt.title(\"Age vs Treatment\")\n",
        "plt.show()"
      ]
    },
    {
      "cell_type": "markdown",
      "metadata": {
        "id": "bbFf2-_FphqN"
      },
      "source": [
        "##### 1. Why did you pick the specific chart?"
      ]
    },
    {
      "cell_type": "markdown",
      "metadata": {
        "id": "loh7H2nzphqN"
      },
      "source": [
        "To explore whether age has an influence on treatment-seeking behavior."
      ]
    },
    {
      "cell_type": "markdown",
      "metadata": {
        "id": "_ouA3fa0phqN"
      },
      "source": [
        "##### 2. What is/are the insight(s) found from the chart?"
      ]
    },
    {
      "cell_type": "markdown",
      "metadata": {
        "id": "VECbqPI7phqN"
      },
      "source": [
        "**Insight:** The median age of those who sought treatment is slightly lower than those who did not. This suggests younger professionals might be more open to seeking help."
      ]
    },
    {
      "cell_type": "markdown",
      "metadata": {
        "id": "Seke61FWphqN"
      },
      "source": [
        "##### 3. Will the gained insights help creating a positive business impact?\n",
        "Are there any insights that lead to negative growth? Justify with specific reason."
      ]
    },
    {
      "cell_type": "markdown",
      "metadata": {
        "id": "DW4_bGpfphqN"
      },
      "source": [
        "**Impact:** Mental health outreach and awareness campaigns might be more effective when targeted at younger employees, especially in onboarding and training."
      ]
    },
    {
      "cell_type": "markdown",
      "metadata": {
        "id": "PIIx-8_IphqN"
      },
      "source": [
        "#### Chart - 7"
      ]
    },
    {
      "cell_type": "code",
      "execution_count": null,
      "metadata": {
        "id": "lqAIGUfyphqO"
      },
      "outputs": [],
      "source": [
        "# Chart - 7 Gender vs Treatment\n",
        "\n",
        "plt.figure(figsize=(10, 6))\n",
        "sns.countplot(data=df_cleaned, x=\"Gender\", hue=\"treatment\")\n",
        "plt.title(\"Gender vs Treatment\")\n",
        "plt.show()"
      ]
    },
    {
      "cell_type": "markdown",
      "metadata": {
        "id": "t27r6nlMphqO"
      },
      "source": [
        "##### 1. Why did you pick the specific chart?"
      ]
    },
    {
      "cell_type": "markdown",
      "metadata": {
        "id": "iv6ro40sphqO"
      },
      "source": [
        "To understand how treatment-seeking behavior differs across genders."
      ]
    },
    {
      "cell_type": "markdown",
      "metadata": {
        "id": "r2jJGEOYphqO"
      },
      "source": [
        "##### 2. What is/are the insight(s) found from the chart?"
      ]
    },
    {
      "cell_type": "markdown",
      "metadata": {
        "id": "Po6ZPi4hphqO"
      },
      "source": [
        "**Insight:** While all genders report seeking treatment, the distribution varies. Men appear slightly more likely to seek treatment, which may reflect differing comfort levels or access."
      ]
    },
    {
      "cell_type": "markdown",
      "metadata": {
        "id": "b0JNsNcRphqO"
      },
      "source": [
        "##### 3. Will the gained insights help creating a positive business impact?\n",
        "Are there any insights that lead to negative growth? Justify with specific reason."
      ]
    },
    {
      "cell_type": "markdown",
      "metadata": {
        "id": "xvSq8iUTphqO"
      },
      "source": [
        "**Impact:** Companies should consider gender-specific support strategies and make resources equally approachable for all."
      ]
    },
    {
      "cell_type": "markdown",
      "metadata": {
        "id": "BZR9WyysphqO"
      },
      "source": [
        "#### Chart - 8"
      ]
    },
    {
      "cell_type": "code",
      "execution_count": null,
      "metadata": {
        "id": "TdPTWpAVphqO"
      },
      "outputs": [],
      "source": [
        "# Chart - 8 Remote Work vs Treatment\n",
        "\n",
        "plt.figure(figsize=(8,6))\n",
        "sns.countplot(data=df_cleaned, x=\"remote_work\", hue=\"treatment\",  palette='viridis')\n",
        "plt.title(\"Remote Work vs Treatment\")\n",
        "plt.show()\n"
      ]
    },
    {
      "cell_type": "markdown",
      "metadata": {
        "id": "jj7wYXLtphqO"
      },
      "source": [
        "##### 1. Why did you pick the specific chart?"
      ]
    },
    {
      "cell_type": "markdown",
      "metadata": {
        "id": "Ob8u6rCTphqO"
      },
      "source": [
        "To examine if working remotely influences treatment-seeking behavior."
      ]
    },
    {
      "cell_type": "markdown",
      "metadata": {
        "id": "eZrbJ2SmphqO"
      },
      "source": [
        "##### 2. What is/are the insight(s) found from the chart?"
      ]
    },
    {
      "cell_type": "markdown",
      "metadata": {
        "id": "mZtgC_hjphqO"
      },
      "source": [
        "**Insight:** The bar chart shows that among those who do not work remotely, both “Yes” and “No” responses for seeking treatment are nearly balanced, with slightly more saying “No.”\n",
        "However, for those who work remotely, there is a slight increase in treatment-seeking."
      ]
    },
    {
      "cell_type": "markdown",
      "metadata": {
        "id": "rFu4xreNphqO"
      },
      "source": [
        "##### 3. Will the gained insights help creating a positive business impact?\n",
        "Are there any insights that lead to negative growth? Justify with specific reason."
      ]
    },
    {
      "cell_type": "markdown",
      "metadata": {
        "id": "ey_0qi68phqO"
      },
      "source": [
        "**Impact:** This insight is critical for companies with hybrid or remote models. Employers should:\n",
        "\n",
        "* Offer remote-access mental health services (e.g., teletherapy, mental wellness apps).\n",
        "\n",
        "* Encourage open communication and support channels in remote settings.\n",
        "\n",
        "* Ensure that remote employees are not left out of wellness programs designed for in-office teams."
      ]
    },
    {
      "cell_type": "markdown",
      "source": [
        "# **Multivariate Analysis**"
      ],
      "metadata": {
        "id": "SLOCw26lbG3G"
      }
    },
    {
      "cell_type": "markdown",
      "metadata": {
        "id": "YJ55k-q6phqO"
      },
      "source": [
        "#### Chart - 9"
      ]
    },
    {
      "cell_type": "code",
      "execution_count": null,
      "metadata": {
        "id": "B2aS4O1ophqO"
      },
      "outputs": [],
      "source": [
        "# Chart - 9 Work Interference vs Treatment by Gender\n",
        "\n",
        "sns.catplot(x=\"work_interfere\", hue=\"treatment\", col=\"Gender\",\n",
        "            data=df_cleaned, kind=\"count\", height=5, aspect=1)\n",
        "plt.show()"
      ]
    },
    {
      "cell_type": "markdown",
      "metadata": {
        "id": "gCFgpxoyphqP"
      },
      "source": [
        "##### 1. Why did you pick the specific chart?"
      ]
    },
    {
      "cell_type": "markdown",
      "metadata": {
        "id": "TVxDimi2phqP"
      },
      "source": [
        " It allows us to break down how work interference due to mental health varies across gender, and how it relates to whether someone sought treatment.\n",
        "\n",
        " This multi-panel approach is excellent for spotting trends within each gender group separately, which would be hidden in a single plot."
      ]
    },
    {
      "cell_type": "markdown",
      "metadata": {
        "id": "OVtJsKN_phqQ"
      },
      "source": [
        "##### 2. What is/are the insight(s) found from the chart?"
      ]
    },
    {
      "cell_type": "markdown",
      "metadata": {
        "id": "ngGi97qjphqQ"
      },
      "source": [
        "**Insight:**\n",
        "\n",
        "**1. For Male respondents:**\n",
        "\n",
        "* The largest group falls under \"Sometimes\" work interference.\n",
        "\n",
        "* A majority of them did not seek treatment, even though interference exists.\n",
        "\n",
        "* Treatment-seeking is relatively low for “Rarely” and “Never” categories.\n",
        "\n",
        "\n",
        "**2. For Female respondents:**\n",
        "\n",
        "* More women seek treatment when they report work interference as \"Often\" or \"Sometimes\".\n",
        "\n",
        "* Women are more proactive in seeking help when they notice mental health impacting work.\n",
        "\n",
        "**3. For Other genders:**\n",
        "\n",
        "* The sample size is small, but those reporting “Sometimes” interference are more likely to seek treatment.\n",
        "\n",
        "* Despite lower numbers, the behavior is more similar to female respondents than male.\n",
        "\n"
      ]
    },
    {
      "cell_type": "markdown",
      "metadata": {
        "id": "lssrdh5qphqQ"
      },
      "source": [
        "##### 3. Will the gained insights help creating a positive business impact?\n",
        "Are there any insights that lead to negative growth? Justify with specific reason."
      ]
    },
    {
      "cell_type": "markdown",
      "metadata": {
        "id": "tBpY5ekJphqQ"
      },
      "source": [
        "**Impact:** Female employees are more likely to seek help when mental health interferes with work, suggesting higher awareness or reduced stigma in this group. Male employees may need more proactive encouragement or a safer environment to seek help."
      ]
    },
    {
      "cell_type": "markdown",
      "metadata": {
        "id": "U2RJ9gkRphqQ"
      },
      "source": [
        "#### Chart - 10"
      ]
    },
    {
      "cell_type": "code",
      "execution_count": null,
      "metadata": {
        "id": "GM7a4YP4phqQ"
      },
      "outputs": [],
      "source": [
        "# Chart - 10  Remote Work vs Mental Health Support\n",
        "\n",
        "sns.countplot(x='remote_work', hue='seek_help', data=df_cleaned)\n",
        "plt.title(\"Remote Work vs Mental Health Help Access\")\n",
        "plt.show()"
      ]
    },
    {
      "cell_type": "markdown",
      "metadata": {
        "id": "1M8mcRywphqQ"
      },
      "source": [
        "##### 1. Why did you pick the specific chart?"
      ]
    },
    {
      "cell_type": "markdown",
      "metadata": {
        "id": "8agQvks0phqQ"
      },
      "source": [
        "We used a countplot with a hue to compare the proportion of people working remotely vs on-site across different responses to mental health support availability"
      ]
    },
    {
      "cell_type": "markdown",
      "metadata": {
        "id": "tgIPom80phqQ"
      },
      "source": [
        "##### 2. What is/are the insight(s) found from the chart?"
      ]
    },
    {
      "cell_type": "markdown",
      "metadata": {
        "id": "Qp13pnNzphqQ"
      },
      "source": [
        "**Insight:** Among non-remote workers, the largest group says \"No\", followed by a significant number who answered \"Don't know\". Surprisingly, only a minority said \"Yes\".\n",
        "\n",
        "Among remote workers, even fewer say \"Yes\", while the majority responded \"No\", and a notable group is also unsure (\"Don't know\")."
      ]
    },
    {
      "cell_type": "markdown",
      "metadata": {
        "id": "JMzcOPDDphqR"
      },
      "source": [
        "##### 3. Will the gained insights help creating a positive business impact?\n",
        "Are there any insights that lead to negative growth? Justify with specific reason."
      ]
    },
    {
      "cell_type": "markdown",
      "metadata": {
        "id": "R4Ka1PC2phqR"
      },
      "source": [
        "**Impact:**\n",
        "\n",
        "* Awareness is low — many employees don’t know whether they have access to mental health support.\n",
        "\n",
        "* Remote workers may be especially disconnected from wellness resources and HR communication."
      ]
    },
    {
      "cell_type": "markdown",
      "metadata": {
        "id": "x-EpHcCOp1ci"
      },
      "source": [
        "#### Chart - 11"
      ]
    },
    {
      "cell_type": "code",
      "execution_count": null,
      "metadata": {
        "id": "mAQTIvtqp1cj"
      },
      "outputs": [],
      "source": [
        "# Chart - 11 Company Size vs Mental Health Benefits\n",
        "\n",
        "sns.countplot(x='no_employees', hue='benefits', data=df_cleaned)\n",
        "plt.title(\"Company Size vs Mental Health Benefits\")\n",
        "plt.xticks(rotation=45)\n",
        "plt.show()"
      ]
    },
    {
      "cell_type": "markdown",
      "metadata": {
        "id": "X_VqEhTip1ck"
      },
      "source": [
        "##### 1. Why did you pick the specific chart?"
      ]
    },
    {
      "cell_type": "markdown",
      "metadata": {
        "id": "-vsMzt_np1ck"
      },
      "source": [
        "To explore if company size affects the likelihood of offering mental health benefits."
      ]
    },
    {
      "cell_type": "markdown",
      "metadata": {
        "id": "8zGJKyg5p1ck"
      },
      "source": [
        "##### 2. What is/are the insight(s) found from the chart?"
      ]
    },
    {
      "cell_type": "markdown",
      "metadata": {
        "id": "ZYdMsrqVp1ck"
      },
      "source": [
        "**Insight:** Larger organizations are more likely to provide mental health benefits than small companies. Small and mid-size companies show inconsistency."
      ]
    },
    {
      "cell_type": "markdown",
      "metadata": {
        "id": "PVzmfK_Ep1ck"
      },
      "source": [
        "##### 3. Will the gained insights help creating a positive business impact?\n",
        "Are there any insights that lead to negative growth? Justify with specific reason."
      ]
    },
    {
      "cell_type": "markdown",
      "metadata": {
        "id": "druuKYZpp1ck"
      },
      "source": [
        "**Impact:** There is a need to help SMEs adopt scalable and affordable mental health support systems or use third-party wellness services."
      ]
    },
    {
      "cell_type": "markdown",
      "metadata": {
        "id": "JcMwzZxoAimU"
      },
      "source": [
        "# **5. Solution to Business Objective**"
      ]
    },
    {
      "cell_type": "markdown",
      "metadata": {
        "id": "8G2x9gOozGDZ"
      },
      "source": [
        "#### What do you suggest the client to achieve Business Objective ?\n",
        "Explain Briefly."
      ]
    },
    {
      "cell_type": "markdown",
      "metadata": {
        "id": "pASKb0qOza21"
      },
      "source": [
        "To achieve the goal of improving employee mental health awareness, support, and engagement, we suggest the following data-backed strategies:\n",
        "\n",
        "**1. Enhance Awareness and Accessibility of Mental Health Support**\n",
        "\n",
        "Many employees either don’t know or believe they don’t have access to mental health resources — especially remote workers. The company should:\n",
        "\n",
        "* Regularly communicate available support via email, intranet, and meetings.\n",
        "\n",
        "* Include mental health resource overviews during onboarding.\n",
        "\n",
        "* Use digital tools (e.g., chatbots, apps) to provide 24/7 access to help.\n",
        "\n",
        "**2. Target Support Based on Risk Factors**\n",
        "\n",
        "Groups more likely to seek treatment include:\n",
        "\n",
        "* Employees aged 25–35\n",
        "\n",
        "* Those with a family history of mental illness\n",
        "\n",
        "* Those who report work interference from mental health\n",
        "\n",
        "Focus interventions (e.g., preventive workshops, stress-relief programs) on these groups.\n",
        "\n",
        "**3. Address Gender Gaps in Treatment-Seeking Behavior**\n",
        "\n",
        "The analysis revealed that males are less likely to seek treatment even when mental health affects work. This may be due to stigma or cultural resistance. The company should:\n",
        "\n",
        "* Promote mental health in male-dominated teams through leaders sharing personal experiences.\n",
        "\n",
        "* Introduce anonymous self-assessments or surveys.\n",
        "\n",
        "**4. Support Remote Workers Differently**\n",
        "\n",
        "Remote employees are:\n",
        "\n",
        "* Less aware of support options\n",
        "\n",
        "* Less likely to seek treatment despite possibly facing isolation\n",
        "\n",
        "Offer teletherapy, virtual wellness sessions, and regular check-ins to bridge this gap."
      ]
    },
    {
      "cell_type": "markdown",
      "metadata": {
        "id": "gCX9965dhzqZ"
      },
      "source": [
        "# **Conclusion**"
      ]
    },
    {
      "cell_type": "markdown",
      "metadata": {
        "id": "Fjb1IsQkh3yE"
      },
      "source": [
        "This EDA uncovered key behavioral patterns and risk indicators affecting mental health support and treatment in the tech workplace. Key findings include:\n",
        "\n",
        "* Majority of respondents are in the 25–35 age group — a critical audience for intervention.\n",
        "\n",
        "* A significant number of employees reported a family history of mental illness, increasing their potential vulnerability.\n",
        "\n",
        "* There is a clear link between work interference and treatment-seeking, but gender plays a major role in response behavior.\n",
        "\n",
        "* Remote employees are less likely to know or access mental health support, despite being in potentially more isolated environments.\n",
        "\n",
        "* Males are less likely to seek treatment even when needed, indicating the need for stigma-reducing strategies.\n",
        "\n",
        "In conclusion, the organization must implement proactive, inclusive, and well-communicated mental health strategies tailored to age, gender, and work mode to truly support employee well-being and productivity."
      ]
    }
  ],
  "metadata": {
    "colab": {
      "collapsed_sections": [
        "w6K7xa23Elo4",
        "mDgbUHAGgjLW",
        "iky9q4vBYrdO"
      ],
      "private_outputs": true,
      "provenance": []
    },
    "kernelspec": {
      "display_name": "Python 3",
      "name": "python3"
    },
    "language_info": {
      "name": "python"
    }
  },
  "nbformat": 4,
  "nbformat_minor": 0
}